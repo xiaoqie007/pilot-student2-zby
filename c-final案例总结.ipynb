{
 "cells": [
  {
   "cell_type": "markdown",
   "metadata": {},
   "source": [
    "#### 设计简单对话机器人"
   ]
  },
  {
   "cell_type": "markdown",
   "metadata": {},
   "source": [
    "###### 第一步：基本单元（程序提问-用户回应-程序再回应）"
   ]
  },
  {
   "cell_type": "code",
   "execution_count": 1,
   "metadata": {},
   "outputs": [
    {
     "name": "stdout",
     "output_type": "stream",
     "text": [
      "Hi, What is your name?\n"
     ]
    },
    {
     "name": "stdin",
     "output_type": "stream",
     "text": [
      " PeterYu\n"
     ]
    },
    {
     "name": "stdout",
     "output_type": "stream",
     "text": [
      "Hello PeterYu!\n"
     ]
    }
   ],
   "source": [
    "print(\"How are you today?\")\n",
    "feeling = input"
   ]
  },
  {
   "cell_type": "markdown",
   "metadata": {},
   "source": [
    "print(\"How are you today?\")\n",
    "feeling = input()\n",
    "if 'good' in feeling:\n",
    "    print(\"I'm feeling good too\")\n",
    "else:\n",
    "    print(\"Sorry to hear that\")"
   ]
  },
  {
   "cell_type": "markdown",
   "metadata": {},
   "source": [
    "- 思考：发现一个小bug，如果用户输入good或I'm good， 程序正常回应，如果用户输入Good，就会输出Sorry to hear that，于是进一步完善"
   ]
  },
  {
   "cell_type": "code",
   "execution_count": 3,
   "metadata": {},
   "outputs": [
    {
     "name": "stdout",
     "output_type": "stream",
     "text": [
      "How are you today?\n"
     ]
    },
    {
     "name": "stdin",
     "output_type": "stream",
     "text": [
      " Good\n"
     ]
    },
    {
     "name": "stdout",
     "output_type": "stream",
     "text": [
      "I'm feeling good too\n"
     ]
    }
   ],
   "source": [
    "print(\"How are you today?\")\n",
    "feeling = input()\n",
    "if 'good' in feeling.lower():\n",
    "    print(\"I'm feeling good too\")\n",
    "else:\n",
    "    print(\"Sorry to hear that\")"
   ]
  },
  {
   "cell_type": "code",
   "execution_count": 5,
   "metadata": {},
   "outputs": [
    {
     "name": "stdout",
     "output_type": "stream",
     "text": [
      "what's your favorite color?\n"
     ]
    },
    {
     "name": "stdin",
     "output_type": "stream",
     "text": [
      " Yellow\n"
     ]
    },
    {
     "name": "stdout",
     "output_type": "stream",
     "text": [
      "You like yellow? My favorite color is blue\n"
     ]
    }
   ],
   "source": [
    "#引入一点随机性增加乐趣。\n",
    "\n",
    "import random\n",
    "\n",
    "print(\"what's your favorite color?\")\n",
    "favcolor = input()\n",
    "colors = ['red', 'orange', 'yellow', 'green', 'blue', 'indigo', 'purple']\n",
    "print(f\"You like {favcolor.lower()}? My favorite color is {random.choice(colors)}\")"
   ]
  },
  {
   "cell_type": "markdown",
   "metadata": {},
   "source": [
    "`1.小结收获`：\n",
    "- 每一轮交互都是print（）一句话，然后input（）获取用户输入，然后围绕输入内容进行计算，给出一个相关的输出，并print（）出来；\n",
    "- 在识别和处理输入时要当心大小写问题\n",
    "- 体验上的一些细节，比如程序print（）输出太快了，如果能停顿一下再输出感觉会更像对话。"
   ]
  },
  {
   "cell_type": "markdown",
   "metadata": {},
   "source": [
    "`2.建立抽象模块`\n",
    "1. 每轮交互可以用一个bot对象实现，不同的剧本实现为不同的Bot类；\n",
    "2. 每轮交互中的共性功能，比如输入输出的`print- input-print`流程，可以在一个公共的Bot父类中处理；\n",
    "3. 理解用户输入并给出回应是核心的逻辑，每个Bot类需要实现这个逻辑，但接口应该在Bot父类中统一。"
   ]
  },
  {
   "cell_type": "markdown",
   "metadata": {},
   "source": [
    "###### 第二步：构建"
   ]
  },
  {
   "cell_type": "code",
   "execution_count": 7,
   "metadata": {},
   "outputs": [],
   "source": [
    "#父类\n",
    "\n",
    "import time\n",
    "\n",
    "class Bot:\n",
    "    wait = 1  # 休息指定的秒数\n",
    "    \n",
    "    def __init__(self): #程序提问和用户回答\n",
    "        self.q = ''\n",
    "        self.a = ''\n",
    "        \n",
    "    def _think(self, s): #从用户输入出发计算程序回答的核心算法\n",
    "        return s\n",
    "    \n",
    "    def run(self):\n",
    "        time.sleep(Bot.wait)\n",
    "        print(self.q)\n",
    "        self.a = input()\n",
    "        time.sleep(Bot.wait)\n",
    "        print(self._think(self.a))\n",
    "    "
   ]
  },
  {
   "cell_type": "code",
   "execution_count": 5,
   "metadata": {},
   "outputs": [],
   "source": [
    "#有了上面那个父类，我们在实现几轮对话不同的子类：\n",
    "#子类\n",
    "\n",
    "class HelloBot(Bot):\n",
    "    def __init__(self):\n",
    "        self.q = \"Hi, what is your name?\"\n",
    "    \n",
    "    def _think(self, s):\n",
    "        return f\"Hello {s}\"\n",
    " \n",
    "\n",
    "class GreetingBot(Bot):\n",
    "    def __init__(self):\n",
    "        self.q = \"How are you today?\"\n",
    "        \n",
    "    def _think(self, s):\n",
    "        if 'good' in s.lower() or 'fine' in s.lower():\n",
    "            return \"I'm feeling good too\"\n",
    "        else:\n",
    "            return \"Sorry to hear that\"\n",
    "\n",
    "\n",
    "import random\n",
    "\n",
    "class FavoriteColorBot(Bot):\n",
    "    def __init__(self):\n",
    "        self.q = \"What's your favorite color?\"\n",
    "    \n",
    "    def _think(self, s):\n",
    "        colors = ['red', 'orange', 'yellow', 'green', 'blue', 'indigo', 'purple']\n",
    "        return f\"You like {s.lower()}? My favorite color is {random.choice(colors)}\""
   ]
  },
  {
   "cell_type": "markdown",
   "metadata": {},
   "source": [
    "小结:\n",
    "1. 在 `__init__()` 方法中设定程序发问的问题是什么\n",
    "2. 在 `_think()` 方法中根据用户输入来计算程序回应的内容"
   ]
  },
  {
   "cell_type": "markdown",
   "metadata": {},
   "source": [
    "###### 第三步：构建一个主流程把上面这些Bot串起来（对话系统的主类定义）"
   ]
  },
  {
   "cell_type": "code",
   "execution_count": 18,
   "metadata": {},
   "outputs": [],
   "source": [
    "class PeterYu:\n",
    "    def __init__(self, wait = 1):\n",
    "        Bot.wait = wait\n",
    "        self.bots = []\n",
    "        \n",
    "    def add(self, bot):\n",
    "        self.bots.append(bot)\n",
    "        \n",
    "    def _prompt(self, s):\n",
    "        print(s)\n",
    "        print()\n",
    "        \n",
    "    def _finall(self, s):\n",
    "        print(s)\n",
    "        \n",
    "    def run(self): #先打印一行提示，然后一个个运行我们加入的bot，即调用每个bot的run()方法。\n",
    "        self._prompt(\"This is PeterYu dialog system. Let's talk.\")\n",
    "        for bot in self.bots:\n",
    "            bot.run()    \n",
    "        self._finall(\"Thank you for using PeterYu dialog system， Bye！\")"
   ]
  },
  {
   "cell_type": "markdown",
   "metadata": {},
   "source": [
    "###### 第四步：初始化一个PeterYu实例来具体运行"
   ]
  },
  {
   "cell_type": "code",
   "execution_count": 11,
   "metadata": {},
   "outputs": [],
   "source": [
    "#创建一个聊天延时1s的对话系统\n",
    "peteryu = PeterYu(1)"
   ]
  },
  {
   "cell_type": "code",
   "execution_count": 12,
   "metadata": {},
   "outputs": [],
   "source": [
    "#向其加入我们已经定义好的各个对话bot的实例化对象\n",
    "peteryu.add(HelloBot())\n",
    "peteryu.add(GreetingBot())\n",
    "peteryu.add(FavoriteColorBot())"
   ]
  },
  {
   "cell_type": "code",
   "execution_count": 13,
   "metadata": {},
   "outputs": [
    {
     "name": "stdout",
     "output_type": "stream",
     "text": [
      "This is PeterYu dialog system. Let's talk.\n",
      "\n",
      "Hi, what is your name?\n"
     ]
    },
    {
     "name": "stdin",
     "output_type": "stream",
     "text": [
      " Tom\n"
     ]
    },
    {
     "name": "stdout",
     "output_type": "stream",
     "text": [
      "Hello Tom\n",
      "How are you today?\n"
     ]
    },
    {
     "name": "stdin",
     "output_type": "stream",
     "text": [
      " fine\n"
     ]
    },
    {
     "name": "stdout",
     "output_type": "stream",
     "text": [
      "I'm feeling good too\n",
      "What's your favorite color?\n"
     ]
    },
    {
     "name": "stdin",
     "output_type": "stream",
     "text": [
      " yellow\n"
     ]
    },
    {
     "name": "stdout",
     "output_type": "stream",
     "text": [
      "You like yellow? My favorite color is blue\n"
     ]
    }
   ],
   "source": [
    "#运行它\n",
    "peteryu.run()"
   ]
  },
  {
   "cell_type": "markdown",
   "metadata": {},
   "source": [
    "###### 第五步：优化"
   ]
  },
  {
   "cell_type": "markdown",
   "metadata": {},
   "source": [
    "**思考：**\n",
    "- 如果我们对交互的流程和样式不满意，就优化增强`Bot`父类的`run()`方法； #父类class Bot中的def—run\n",
    "- 如果我们需要更多对话内容，就定义更多不一样的`Bot`子类；  #子类\n",
    "- 如果想增加对话系统级的操作，比如提供系统帮助指令，可以修改`PeterYu`和`Bot`类的`run()`方法来实现"
   ]
  },
  {
   "cell_type": "code",
   "execution_count": 2,
   "metadata": {},
   "outputs": [],
   "source": [
    "#One： 给程序输出的对话加上颜色，以区分用户输入的内容\n",
    "# 安装第三方的模块termcolor， pip install termcolor\n",
    "\n",
    "from time import sleep\n",
    "from termcolor import colored\n",
    "\n",
    "class Bot:\n",
    "    wait = 1  # 休息指定的秒数\n",
    "    \n",
    "    def __init__(self): #程序提问和用户回答\n",
    "        self.q = ''\n",
    "        self.a = ''\n",
    "        \n",
    "    def _think(self, s): #从用户输入出发计算程序回答的核心算法\n",
    "        return s\n",
    "    \n",
    "    def _format(self, s): #增加一个内部方法_format来对程序输出的文字进行格式化，调用termcolor提供的colored对字符串上色\n",
    "        return colored(s, 'yellow')\n",
    "    \n",
    "    def run(self):\n",
    "        #time.sleep(Bot.wait)\n",
    "        sleep(Bot.wait)\n",
    "        \n",
    "        #print(self.q)\n",
    "        print(self._format(self.q))\n",
    "        \n",
    "        self.a = input()\n",
    "        #time.sleep(Bot.wait)\n",
    "        sleep(Bot.wait)\n",
    "        print(self._format(self._think(self.a)))\n",
    "    "
   ]
  },
  {
   "cell_type": "code",
   "execution_count": 3,
   "metadata": {},
   "outputs": [],
   "source": [
    "#Two： 做一个新的Bot子类，可以对用户输入的一个四则运算表达式进行计算求值\n",
    "# 安装第三方库simpleeval， pip install simpleeval\n",
    "\n",
    "from simpleeval import simple_eval\n",
    "\n",
    "class CalcBot(Bot):\n",
    "    def __init__(self):\n",
    "        self.q = \"Through recent upgrade I can do calculation now. Input some arithmetic expression to try:\"\n",
    "    \n",
    "    def _think(self, s):\n",
    "        result = simple_eval(s)\n",
    "        return f\"Done. Result = {result}\"\n",
    "    "
   ]
  },
  {
   "cell_type": "markdown",
   "metadata": {},
   "source": [
    "###### 体验下"
   ]
  },
  {
   "cell_type": "code",
   "execution_count": 6,
   "metadata": {},
   "outputs": [],
   "source": [
    "peteryu = PeterYu(1)\n",
    "peteryu.add(HelloBot())\n",
    "peteryu.add(CalcBot())"
   ]
  },
  {
   "cell_type": "code",
   "execution_count": 7,
   "metadata": {},
   "outputs": [
    {
     "name": "stdout",
     "output_type": "stream",
     "text": [
      "This is PeterYu dialog system. Let's talk.\n",
      "\n",
      "\u001b[33mHi, what is your name?\u001b[0m\n"
     ]
    },
    {
     "name": "stdin",
     "output_type": "stream",
     "text": [
      " Tom\n"
     ]
    },
    {
     "name": "stdout",
     "output_type": "stream",
     "text": [
      "\u001b[33mHello Tom\u001b[0m\n",
      "\u001b[33mThrough recent upgrade I can do calculation now. Input some arithmetic expression to try:\u001b[0m\n"
     ]
    },
    {
     "name": "stdin",
     "output_type": "stream",
     "text": [
      " 230*89/34+2046\n"
     ]
    },
    {
     "name": "stdout",
     "output_type": "stream",
     "text": [
      "\u001b[33mDone. Result = 2648.0588235294117\u001b[0m\n"
     ]
    }
   ],
   "source": [
    "peteryu.run()"
   ]
  },
  {
   "cell_type": "markdown",
   "metadata": {},
   "source": [
    "- **作业**\n",
    "\n",
    "- 现在给你布置一个作业，我们想改进最后这个 CalcBot，让它可以反复执行，用户可以一直输入算术表达式求值，直到用户输入 x q exit 或者 quit 为止，才跳到下一个 bot 执行。\n",
    "\n",
    "- *提示：这个需求改变了 run() 方法的基本流程，所以需要在 CalcBot 中重新实现一个 run() 方法，覆盖掉父类中 run() 的实现。在本章最后有参考答案。*"
   ]
  },
  {
   "cell_type": "code",
   "execution_count": 9,
   "metadata": {},
   "outputs": [],
   "source": [
    "from simpleeval import simple_eval\n",
    "\n",
    "class CalcBot(Bot):\n",
    "    def __init__(self):\n",
    "        self.q = \"Through recent upgrade I can do calculation now. Input some arithmetic expression to try:\"\n",
    "    \n",
    "    def _think(self, s):\n",
    "        result = simple_eval(s)\n",
    "        return f\"Done. Result = {result}\"\n",
    "        \n",
    "    def run(self):\n",
    "        sleep(Bot.wait)\n",
    "        print(self._format(self.q))\n",
    "        while True:\n",
    "            self.a = input()\n",
    "            if self.a.lower() in ['q', 'x', 'quit', 'exit']:\n",
    "                break\n",
    "            sleep(Bot.wait)\n",
    "            print(self._format(self._think(self.a)))\n",
    "    "
   ]
  },
  {
   "cell_type": "markdown",
   "metadata": {},
   "source": [
    "###### 看下Bot父类中的run（）方法\n",
    "```python\n",
    "def run(self):\n",
    "        sleep(Bot.wait)\n",
    "        print(self._format(self.q))\n",
    "        self.a = input()\n",
    "        sleep(Bot.wait)\n",
    "        print(self._format(self._think(self.a)))\n",
    "```"
   ]
  },
  {
   "cell_type": "markdown",
   "metadata": {},
   "source": [
    "仔细观察上面的代码，我们可以发现 CalcBot 真正的特性只在 self.q 和 _think() 方法中体现，而这个 run() 方法里面并没有任何和 CalcBot 的特性有关的内容，完全是通用的，也就是说如果想写个别的循环运行的 bot，完全可以复用这段代码。这强烈的提示我们，这段代码应该成为父类 Bot 的一部分。\n",
    "\n",
    "经过思考，我们可以给 Bot 父类一个新的实例变量 runtype，其值可以为 'once' 或者 'loop'，分别表示 bot 只运行一次或者循环运行，然后根据这个值来调用两个不同版本的 run() 方法。为此改写父类 Bot 如下："
   ]
  },
  {
   "cell_type": "code",
   "execution_count": 10,
   "metadata": {},
   "outputs": [],
   "source": [
    "from random import choice\n",
    "from time import sleep\n",
    "from termcolor import colored\n",
    "from simpleeval import simple_eval"
   ]
  },
  {
   "cell_type": "code",
   "execution_count": 11,
   "metadata": {},
   "outputs": [],
   "source": [
    "class Bot:\n",
    "    \n",
    "    wait = 1\n",
    "    \n",
    "    #self.runtype: run type of the bot, can be 'once' or 'looped', default to 'once'\n",
    "    def __init__(self, runtype = 'once'):\n",
    "        self.runtype = runtype\n",
    "        self.q = ''\n",
    "        self.a = ''\n",
    "        \n",
    "    def _think(self, s):\n",
    "        return s\n",
    "    \n",
    "    def _format(self, s):\n",
    "        return colored(s, 'yellow')\n",
    "    \n",
    "    def _run_once(self):\n",
    "        sleep(Bot.wait)\n",
    "        print(self._format(self.q))\n",
    "        self.a = input()\n",
    "        sleep(Bot.wait)\n",
    "        print(self._format(self._think(self.a)))\n",
    "        \n",
    "    def _run_looped(self):\n",
    "        sleep(Bot.wait)\n",
    "        print(self._format(self.q))\n",
    "        while True:\n",
    "            self.a = input()\n",
    "            if self.a.lower() in ['q', 'x', 'quit', 'exit']:\n",
    "                break\n",
    "            sleep(Bot.wait)\n",
    "            print(self._format(self._think(self.a)))\n",
    "            \n",
    "    def run(self):\n",
    "        if self.runtype == 'once':\n",
    "            self._run_once()\n",
    "        elif self.runtype == 'looped':\n",
    "            self._run_looped()"
   ]
  },
  {
   "cell_type": "markdown",
   "metadata": {},
   "source": [
    "- 我们在新的 `__init__()` 方法中增加了一个参数来 runtype，并指定其缺省值为 'once'，这意味着以前所写的只运行一次的 bot 们在实例化时的代码不需要修改，但这些子类的 `__init__()` 方法需要修改，对齐父类的定义，并调用父类的` __init__()` 方法来初始化 self.runtype。所以老的子类要做如下修改："
   ]
  },
  {
   "cell_type": "code",
   "execution_count": 12,
   "metadata": {},
   "outputs": [],
   "source": [
    "class HelloBot(Bot):\n",
    "    def __init__(self, runtype = 'once'):\n",
    "        super().__init__(runtype)\n",
    "        self.q = \"Hi, what is your name?\"\n",
    "        \n",
    "    def _think(self, s):\n",
    "        return f\"Hello {s}\""
   ]
  },
  {
   "cell_type": "code",
   "execution_count": 13,
   "metadata": {},
   "outputs": [],
   "source": [
    "class GreetingBot(Bot):\n",
    "    def __init__(self, runtype='once'):\n",
    "        super().__init__(runtype)\n",
    "        self.q = \"How are you today?\"\n",
    "\n",
    "    def _think(self, s):\n",
    "        if 'good' in s.lower() or 'fine' in s.lower():\n",
    "            return \"I'm feeling good too\"\n",
    "        else:\n",
    "            return \"Sorry to hear that\""
   ]
  },
  {
   "cell_type": "code",
   "execution_count": 14,
   "metadata": {},
   "outputs": [],
   "source": [
    "import random\n",
    "\n",
    "class FavoriteColorBot(Bot):\n",
    "    def __init__(self, runtype='once'):\n",
    "        super().__init__(runtype)\n",
    "        self.q = \"What's your favorite color?\"\n",
    "\n",
    "    def _think(self, s):\n",
    "        colors = ['red', 'orange', 'yellow', 'green', 'blue', 'indigo', 'purple']\n",
    "        return f\"You like {s.lower()}? My favorite color is {choice(colors)}\""
   ]
  },
  {
   "cell_type": "markdown",
   "metadata": {},
   "source": [
    "- 注意上面的这几个子类的 `__init__()` 方法，里面调用了 **`super()`** 函数来获得父类对象，然后调用了父类的 `__init__()` 方法来做基本的初始化，而不需要自己再写一遍。在类定义中如果我们需要引用父类的一些实现，都可以用这个办法。"
   ]
  },
  {
   "cell_type": "code",
   "execution_count": 15,
   "metadata": {},
   "outputs": [],
   "source": [
    "class CalcBot(Bot):\n",
    "    def __init__(self, runtype='once'):\n",
    "        super().__init__(runtype)\n",
    "        self.q = \"Through recent upgrade I can do calculation now. Input some arithmetic expression to try, input 'q' 'x' 'quit' or 'exit' to quit:\"\n",
    "\n",
    "    def _think(self, s):\n",
    "        result = simple_eval(s)\n",
    "        return f\"Done. Result = {result}\""
   ]
  },
  {
   "cell_type": "code",
   "execution_count": 19,
   "metadata": {},
   "outputs": [],
   "source": [
    "peteryu = PeterYu(1)\n",
    "peteryu.add(HelloBot())\n",
    "peteryu.add(GreetingBot())\n",
    "peteryu.add(FavoriteColorBot())\n",
    "peteryu.add(CalcBot('looped'))"
   ]
  },
  {
   "cell_type": "code",
   "execution_count": 20,
   "metadata": {},
   "outputs": [
    {
     "name": "stdout",
     "output_type": "stream",
     "text": [
      "This is PeterYu dialog system. Let's talk.\n",
      "\n",
      "\u001b[33mHi, what is your name?\u001b[0m\n"
     ]
    },
    {
     "name": "stdin",
     "output_type": "stream",
     "text": [
      " Tom\n"
     ]
    },
    {
     "name": "stdout",
     "output_type": "stream",
     "text": [
      "\u001b[33mHello Tom\u001b[0m\n",
      "\u001b[33mHow are you today?\u001b[0m\n"
     ]
    },
    {
     "name": "stdin",
     "output_type": "stream",
     "text": [
      " good\n"
     ]
    },
    {
     "name": "stdout",
     "output_type": "stream",
     "text": [
      "\u001b[33mI'm feeling good too\u001b[0m\n",
      "\u001b[33mWhat's your favorite color?\u001b[0m\n"
     ]
    },
    {
     "name": "stdin",
     "output_type": "stream",
     "text": [
      " red\n"
     ]
    },
    {
     "name": "stdout",
     "output_type": "stream",
     "text": [
      "\u001b[33mYou like red? My favorite color is blue\u001b[0m\n",
      "\u001b[33mThrough recent upgrade I can do calculation now. Input some arithmetic expression to try, input 'q' 'x' 'quit' or 'exit' to quit:\u001b[0m\n"
     ]
    },
    {
     "name": "stdin",
     "output_type": "stream",
     "text": [
      " 28*9-90\n"
     ]
    },
    {
     "name": "stdout",
     "output_type": "stream",
     "text": [
      "\u001b[33mDone. Result = 162\u001b[0m\n"
     ]
    },
    {
     "name": "stdin",
     "output_type": "stream",
     "text": [
      " x\n"
     ]
    },
    {
     "name": "stdout",
     "output_type": "stream",
     "text": [
      "Thank you for using PeterYu dialog system， Bye！\n"
     ]
    }
   ],
   "source": [
    "peteryu.run()"
   ]
  }
 ],
 "metadata": {
  "kernelspec": {
   "display_name": "Python 3",
   "language": "python",
   "name": "python3"
  },
  "language_info": {
   "codemirror_mode": {
    "name": "ipython",
    "version": 3
   },
   "file_extension": ".py",
   "mimetype": "text/x-python",
   "name": "python",
   "nbconvert_exporter": "python",
   "pygments_lexer": "ipython3",
   "version": "3.7.1"
  }
 },
 "nbformat": 4,
 "nbformat_minor": 2
}
